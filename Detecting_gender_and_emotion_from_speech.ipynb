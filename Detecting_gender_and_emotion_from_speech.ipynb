{
 "cells": [
  {
   "cell_type": "code",
   "execution_count": 1,
   "metadata": {
    "execution": {
     "iopub.execute_input": "2022-06-05T11:16:24.053809Z",
     "iopub.status.busy": "2022-06-05T11:16:24.053582Z",
     "iopub.status.idle": "2022-06-05T11:16:24.058130Z",
     "shell.execute_reply": "2022-06-05T11:16:24.056992Z",
     "shell.execute_reply.started": "2022-06-05T11:16:24.053781Z"
    },
    "id": "QwiihDzYy_I5"
   },
   "outputs": [],
   "source": [
    "import pandas as pd\n",
    "import os"
   ]
  },
  {
   "cell_type": "code",
   "execution_count": 2,
   "metadata": {
    "colab": {
     "base_uri": "https://localhost:8080/"
    },
    "id": "ix4rx5lyzE7o",
    "outputId": "bf74f039-2e39-4937-a89b-dadb467eb8c8"
   },
   "outputs": [
    {
     "name": "stdout",
     "output_type": "stream",
     "text": [
      "Mounted at /content/drive\n"
     ]
    }
   ],
   "source": [
    "from google.colab import drive\n",
    "drive.mount('/content/drive')"
   ]
  },
  {
   "cell_type": "code",
   "execution_count": 3,
   "metadata": {
    "execution": {
     "iopub.execute_input": "2022-06-05T11:16:24.075696Z",
     "iopub.status.busy": "2022-06-05T11:16:24.075046Z",
     "iopub.status.idle": "2022-06-05T11:16:24.080823Z",
     "shell.execute_reply": "2022-06-05T11:16:24.080004Z",
     "shell.execute_reply.started": "2022-06-05T11:16:24.075644Z"
    },
    "id": "I-C9Vnucy_I7"
   },
   "outputs": [],
   "source": [
    "Ravdess = \"/content/drive/MyDrive/Thesis_datasets/Ravdess/audio_speech_actors_01-24\"\n",
    "Crema = \"/content/drive/MyDrive/Thesis_datasets/Crema-D/AudioWAV\"\n",
    "Tess = \"/content/drive/MyDrive/Thesis_datasets/Tess\"\n",
    "Savee = \"/content/drive/MyDrive/Thesis_datasets/Savee\""
   ]
  },
  {
   "cell_type": "code",
   "execution_count": 4,
   "metadata": {
    "colab": {
     "base_uri": "https://localhost:8080/"
    },
    "execution": {
     "iopub.execute_input": "2022-06-05T11:16:24.096762Z",
     "iopub.status.busy": "2022-06-05T11:16:24.096405Z",
     "iopub.status.idle": "2022-06-05T11:16:24.136527Z",
     "shell.execute_reply": "2022-06-05T11:16:24.135683Z",
     "shell.execute_reply.started": "2022-06-05T11:16:24.096729Z"
    },
    "id": "FaI15Bzfy_I9",
    "outputId": "49cf5db6-5649-44f7-90f4-56991a2bfd18"
   },
   "outputs": [
    {
     "data": {
      "text/plain": [
       "(1440, 2)"
      ]
     },
     "execution_count": 4,
     "metadata": {},
     "output_type": "execute_result"
    }
   ],
   "source": [
    "ravdess_directory_list = os.listdir(Ravdess)\n",
    "\n",
    "file_emotion = []\n",
    "file_path = []\n",
    "for dir in ravdess_directory_list:\n",
    "    # as their are 20 different actors in our previous directory we need to extract files for each actor.\n",
    "    actor = os.listdir(Ravdess +\"/\"+ dir)\n",
    "    for file in actor:\n",
    "        part = file.split('.')[0]\n",
    "        part = part.split('-')\n",
    "        # third part in each file represents the emotion associated to that file.\n",
    "        file_emotion.append(int(part[2]))\n",
    "        file_path.append(Ravdess + dir + '/' + file)\n",
    "        \n",
    "# dataframe for emotion of files\n",
    "emotion_df = pd.DataFrame(file_emotion, columns=['Emotions'])\n",
    "\n",
    "# dataframe for path of files.\n",
    "path_df = pd.DataFrame(file_path, columns=['Path'])\n",
    "Ravdess_df = pd.concat([emotion_df, path_df], axis=1)\n",
    "\n",
    "# changing integers to actual emotions.\n",
    "Ravdess_df.Emotions.replace({1:'neutral', 2:'calm', 3:'happy', 4:'sad', 5:'angry', 6:'fear', 7:'disgust', 8:'surprise'}, inplace=True)\n",
    "Ravdess_df.head()\n",
    "Ravdess_df.shape"
   ]
  },
  {
   "cell_type": "code",
   "execution_count": 5,
   "metadata": {
    "colab": {
     "base_uri": "https://localhost:8080/"
    },
    "execution": {
     "iopub.execute_input": "2022-06-05T11:16:24.138878Z",
     "iopub.status.busy": "2022-06-05T11:16:24.138610Z",
     "iopub.status.idle": "2022-06-05T11:16:24.172878Z",
     "shell.execute_reply": "2022-06-05T11:16:24.172059Z",
     "shell.execute_reply.started": "2022-06-05T11:16:24.138843Z"
    },
    "id": "JtocJjsKy_I_",
    "outputId": "f2d1c323-0590-4ce3-df01-1d1109b9bf0f"
   },
   "outputs": [
    {
     "data": {
      "text/plain": [
       "(2533, 2)"
      ]
     },
     "execution_count": 5,
     "metadata": {},
     "output_type": "execute_result"
    }
   ],
   "source": [
    "crema_directory_list = os.listdir(Crema)\n",
    "\n",
    "file_emotion = []\n",
    "file_path = []\n",
    "\n",
    "for file in crema_directory_list:\n",
    "    # storing file paths\n",
    "    file_path.append(Crema + file)\n",
    "    # storing file emotions\n",
    "    part=file.split('_')\n",
    "    if part[2] == 'SAD':\n",
    "        file_emotion.append('sad')\n",
    "    elif part[2] == 'ANG':\n",
    "        file_emotion.append('angry')\n",
    "    elif part[2] == 'DIS':\n",
    "        file_emotion.append('disgust')\n",
    "    elif part[2] == 'FEA':\n",
    "        file_emotion.append('fear')\n",
    "    elif part[2] == 'HAP':\n",
    "        file_emotion.append('happy')\n",
    "    elif part[2] == 'NEU':\n",
    "        file_emotion.append('neutral')\n",
    "    else:\n",
    "        file_emotion.append('Unknown')\n",
    "        \n",
    "# dataframe for emotion of files\n",
    "emotion_df = pd.DataFrame(file_emotion, columns=['Emotions'])\n",
    "\n",
    "# dataframe for path of files.\n",
    "path_df = pd.DataFrame(file_path, columns=['Path'])\n",
    "Crema_df = pd.concat([emotion_df, path_df], axis=1)\n",
    "Crema_df.head()\n",
    "Crema_df.shape"
   ]
  },
  {
   "cell_type": "code",
   "execution_count": 6,
   "metadata": {
    "colab": {
     "base_uri": "https://localhost:8080/"
    },
    "execution": {
     "iopub.execute_input": "2022-06-05T11:16:24.174994Z",
     "iopub.status.busy": "2022-06-05T11:16:24.174736Z",
     "iopub.status.idle": "2022-06-05T11:16:24.207792Z",
     "shell.execute_reply": "2022-06-05T11:16:24.207074Z",
     "shell.execute_reply.started": "2022-06-05T11:16:24.174960Z"
    },
    "id": "jZ5NH96Jy_JB",
    "outputId": "f52cbaba-8b15-4a57-91ee-1c26fe1a899e"
   },
   "outputs": [
    {
     "data": {
      "text/plain": [
       "(2800, 2)"
      ]
     },
     "execution_count": 6,
     "metadata": {},
     "output_type": "execute_result"
    }
   ],
   "source": [
    "tess_directory_list = os.listdir(Tess)\n",
    "\n",
    "file_emotion = []\n",
    "file_path = []\n",
    "\n",
    "for dir in tess_directory_list:\n",
    "    directories = os.listdir(Tess +'/'+ dir)\n",
    "    for file in directories:\n",
    "        part = file.split('.')[0]\n",
    "        part = part.split('_')[2]\n",
    "        if part=='ps':\n",
    "            file_emotion.append('surprise')\n",
    "        else:\n",
    "            file_emotion.append(part)\n",
    "        file_path.append(Tess + dir + '/' + file)\n",
    "        \n",
    "# dataframe for emotion of files\n",
    "emotion_df = pd.DataFrame(file_emotion, columns=['Emotions'])\n",
    "\n",
    "# dataframe for path of files.\n",
    "path_df = pd.DataFrame(file_path, columns=['Path'])\n",
    "Tess_df = pd.concat([emotion_df, path_df], axis=1)\n",
    "Tess_df.head()\n",
    "Tess_df.shape"
   ]
  },
  {
   "cell_type": "code",
   "execution_count": 7,
   "metadata": {
    "colab": {
     "base_uri": "https://localhost:8080/"
    },
    "execution": {
     "iopub.execute_input": "2022-06-05T11:16:24.218399Z",
     "iopub.status.busy": "2022-06-05T11:16:24.217589Z",
     "iopub.status.idle": "2022-06-05T11:16:24.239125Z",
     "shell.execute_reply": "2022-06-05T11:16:24.238270Z",
     "shell.execute_reply.started": "2022-06-05T11:16:24.218360Z"
    },
    "id": "3IJc14QVy_JD",
    "outputId": "15cc4599-7652-4fd0-fcff-fce85dae48cf"
   },
   "outputs": [
    {
     "data": {
      "text/plain": [
       "(480, 2)"
      ]
     },
     "execution_count": 7,
     "metadata": {},
     "output_type": "execute_result"
    }
   ],
   "source": [
    "savee_directory_list = os.listdir(Savee)\n",
    "\n",
    "file_emotion = []\n",
    "file_path = []\n",
    "\n",
    "for file in savee_directory_list:\n",
    "    file_path.append(Savee + file)\n",
    "    part = file.split('_')[1]\n",
    "    ele = part[:-6]\n",
    "    if ele=='a':\n",
    "        file_emotion.append('angry')\n",
    "    elif ele=='d':\n",
    "        file_emotion.append('disgust')\n",
    "    elif ele=='f':\n",
    "        file_emotion.append('fear')\n",
    "    elif ele=='h':\n",
    "        file_emotion.append('happy')\n",
    "    elif ele=='n':\n",
    "        file_emotion.append('neutral')\n",
    "    elif ele=='sa':\n",
    "        file_emotion.append('sad')\n",
    "    else:\n",
    "        file_emotion.append('surprise')\n",
    "        \n",
    "# dataframe for emotion of files\n",
    "emotion_df = pd.DataFrame(file_emotion, columns=['Emotions'])\n",
    "\n",
    "# dataframe for path of files.\n",
    "path_df = pd.DataFrame(file_path, columns=['Path'])\n",
    "Savee_df = pd.concat([emotion_df, path_df], axis=1)\n",
    "Savee_df.head()\n",
    "Savee_df.shape"
   ]
  },
  {
   "cell_type": "code",
   "execution_count": 8,
   "metadata": {
    "colab": {
     "base_uri": "https://localhost:8080/"
    },
    "execution": {
     "iopub.execute_input": "2022-06-05T11:16:24.241579Z",
     "iopub.status.busy": "2022-06-05T11:16:24.241252Z",
     "iopub.status.idle": "2022-06-05T11:16:24.320946Z",
     "shell.execute_reply": "2022-06-05T11:16:24.320227Z",
     "shell.execute_reply.started": "2022-06-05T11:16:24.241494Z"
    },
    "id": "Tq_Wv_Z3y_JG",
    "outputId": "8b4963ea-e48a-4893-bd98-1efa6c58ae76"
   },
   "outputs": [
    {
     "data": {
      "text/plain": [
       "(7253, 2)"
      ]
     },
     "execution_count": 8,
     "metadata": {},
     "output_type": "execute_result"
    }
   ],
   "source": [
    "data_path = pd.concat([Ravdess_df, Crema_df, Tess_df, Savee_df], axis = 0)\n",
    "data_path.to_csv(\"data_path.csv\",index=False)\n",
    "data_path.head()\n",
    "data_path.shape"
   ]
  },
  {
   "cell_type": "code",
   "execution_count": 9,
   "metadata": {
    "execution": {
     "iopub.execute_input": "2022-06-05T11:16:24.323234Z",
     "iopub.status.busy": "2022-06-05T11:16:24.322244Z",
     "iopub.status.idle": "2022-06-05T11:16:24.333474Z",
     "shell.execute_reply": "2022-06-05T11:16:24.332606Z",
     "shell.execute_reply.started": "2022-06-05T11:16:24.323167Z"
    },
    "id": "u0-VgMhsKEy3"
   },
   "outputs": [],
   "source": [
    "import pandas as pd\n",
    "import numpy as np\n",
    "import matplotlib.pyplot as plt\n",
    "import seaborn as sns\n",
    "#for model building\n",
    "import keras\n",
    "from keras.callbacks import ReduceLROnPlateau\n",
    "from keras.models import Sequential\n",
    "import tensorflow as tf\n",
    "from sklearn.metrics import classification_report,accuracy_score\n",
    "from keras.layers import Dense, Conv1D, MaxPooling1D, Flatten, Dropout, BatchNormalization,Input\n",
    "from tensorflow.keras.models import Model\n",
    "from keras.callbacks import ModelCheckpoint\n",
    "from sklearn.model_selection import train_test_split\n",
    "from sklearn.preprocessing import OneHotEncoder,StandardScaler,LabelEncoder\n",
    "import pickle\n",
    "from tensorflow.keras.layers import Dense, SimpleRNN, LSTM, Bidirectional, TimeDistributed, Conv1D, ZeroPadding1D, GRU,Activation\n",
    "from tensorflow.keras.optimizers import Adam\n",
    "from keras.utils.vis_utils import plot_model\n",
    "from sklearn.utils.class_weight import compute_class_weight\n",
    "from warnings import filterwarnings\n",
    "filterwarnings('ignore')"
   ]
  },
  {
   "cell_type": "code",
   "execution_count": 10,
   "metadata": {
    "colab": {
     "base_uri": "https://localhost:8080/"
    },
    "execution": {
     "iopub.execute_input": "2022-06-05T11:16:24.335801Z",
     "iopub.status.busy": "2022-06-05T11:16:24.335529Z",
     "iopub.status.idle": "2022-06-05T11:16:24.395485Z",
     "shell.execute_reply": "2022-06-05T11:16:24.394494Z",
     "shell.execute_reply.started": "2022-06-05T11:16:24.335766Z"
    },
    "id": "7UHkJJcwT2e1",
    "outputId": "95e864d5-649e-448c-f535-f35fc30704e6"
   },
   "outputs": [
    {
     "name": "stdout",
     "output_type": "stream",
     "text": [
      "(21759, 170)\n"
     ]
    }
   ],
   "source": [
    "\"\"\"\n",
    "with open(\"/content/drive/MyDrive/Thesis_datasets/full_dat_speech_output.pickle\", 'wb') as handle:\n",
    "    pickle.dump(Features, handle, protocol=pickle.HIGHEST_PROTOCOL)\n",
    "\"\"\"\n",
    "\n",
    "with open('/content/drive/MyDrive/Thesis_datasets/full_dat_speech_output.pickle', 'rb') as handle:\n",
    "    Features = pickle.load(handle)\n",
    "\n",
    "print(Features.shape)"
   ]
  },
  {
   "cell_type": "code",
   "execution_count": 11,
   "metadata": {
    "execution": {
     "iopub.execute_input": "2022-06-05T11:16:24.398641Z",
     "iopub.status.busy": "2022-06-05T11:16:24.398362Z",
     "iopub.status.idle": "2022-06-05T11:16:24.404752Z",
     "shell.execute_reply": "2022-06-05T11:16:24.403775Z",
     "shell.execute_reply.started": "2022-06-05T11:16:24.398603Z"
    },
    "id": "cCn2mfTLxXAS"
   },
   "outputs": [],
   "source": [
    "#zcr=0\n",
    "chr=list(range(1,13))\n",
    "mfc=list(range(13,33))\n",
    "#rms=33\n",
    "mel=list(range(34,162))\n",
    "ton=list(range(162,168))"
   ]
  },
  {
   "cell_type": "markdown",
   "metadata": {
    "id": "qOWtWjpK3FGi"
   },
   "source": [
    "Renaming columns according to feature extraction technique"
   ]
  },
  {
   "cell_type": "code",
   "execution_count": 12,
   "metadata": {
    "execution": {
     "iopub.execute_input": "2022-06-05T11:16:24.407410Z",
     "iopub.status.busy": "2022-06-05T11:16:24.406614Z",
     "iopub.status.idle": "2022-06-05T11:16:24.523236Z",
     "shell.execute_reply": "2022-06-05T11:16:24.522181Z",
     "shell.execute_reply.started": "2022-06-05T11:16:24.407366Z"
    },
    "id": "svxdS4-6toFl"
   },
   "outputs": [],
   "source": [
    "#ZCR\n",
    "Features.rename(columns={0:'ZCR'},inplace=True)\n",
    "#CHROMA VECTOR\n",
    "for i in chr:\n",
    "    Features.rename(columns={i:'Chroma_Vect'},inplace=True)\n",
    "#MFCC\n",
    "for i in mfc:\n",
    "    Features.rename(columns={i:'MFCC'},inplace=True)\n",
    "#RMS\n",
    "    Features.rename(columns={33:'RMS'},inplace=True)\n",
    "#MEL\n",
    "for i in mel:\n",
    "    Features.rename(columns={i:'mel_spect'},inplace=True)\n",
    "#TONNETZ\n",
    "for i in ton:\n",
    "    Features.rename(columns={i:'tonnetz'},inplace=True)"
   ]
  },
  {
   "cell_type": "code",
   "execution_count": 13,
   "metadata": {
    "execution": {
     "iopub.execute_input": "2022-06-05T11:16:24.525364Z",
     "iopub.status.busy": "2022-06-05T11:16:24.525003Z",
     "iopub.status.idle": "2022-06-05T11:16:24.558414Z",
     "shell.execute_reply": "2022-06-05T11:16:24.557386Z",
     "shell.execute_reply.started": "2022-06-05T11:16:24.525320Z"
    },
    "id": "DO1Im-qky_JO"
   },
   "outputs": [],
   "source": [
    "Features = Features.reindex(np.random.permutation(Features.index))"
   ]
  },
  {
   "cell_type": "code",
   "execution_count": 14,
   "metadata": {
    "execution": {
     "iopub.execute_input": "2022-06-05T11:16:24.560444Z",
     "iopub.status.busy": "2022-06-05T11:16:24.560059Z",
     "iopub.status.idle": "2022-06-05T11:16:32.132870Z",
     "shell.execute_reply": "2022-06-05T11:16:32.131864Z",
     "shell.execute_reply.started": "2022-06-05T11:16:24.560406Z"
    },
    "id": "k1y5kCiZy_JP"
   },
   "outputs": [],
   "source": [
    "Features.to_csv('Converted_audiofiles.csv',index=False)"
   ]
  },
  {
   "cell_type": "code",
   "execution_count": 15,
   "metadata": {
    "colab": {
     "base_uri": "https://localhost:8080/",
     "height": 205
    },
    "execution": {
     "iopub.execute_input": "2022-06-05T11:16:32.135538Z",
     "iopub.status.busy": "2022-06-05T11:16:32.134906Z",
     "iopub.status.idle": "2022-06-05T11:16:33.057669Z",
     "shell.execute_reply": "2022-06-05T11:16:33.054566Z",
     "shell.execute_reply.started": "2022-06-05T11:16:32.135491Z"
    },
    "id": "nE2mjLMOy_JQ",
    "outputId": "897f4f8d-e789-4dd8-fac1-0c81e241eb0a"
   },
   "outputs": [
    {
     "data": {
      "text/html": [
       "\n",
       "  <div id=\"df-22d2ada3-13be-46dd-9c7e-e2a845c4fa3a\">\n",
       "    <div class=\"colab-df-container\">\n",
       "      <div>\n",
       "<style scoped>\n",
       "    .dataframe tbody tr th:only-of-type {\n",
       "        vertical-align: middle;\n",
       "    }\n",
       "\n",
       "    .dataframe tbody tr th {\n",
       "        vertical-align: top;\n",
       "    }\n",
       "\n",
       "    .dataframe thead th {\n",
       "        text-align: right;\n",
       "    }\n",
       "</style>\n",
       "<table border=\"1\" class=\"dataframe\">\n",
       "  <thead>\n",
       "    <tr style=\"text-align: right;\">\n",
       "      <th></th>\n",
       "      <th>ZCR</th>\n",
       "      <th>Chroma_Vect</th>\n",
       "      <th>Chroma_Vect.1</th>\n",
       "      <th>Chroma_Vect.2</th>\n",
       "      <th>Chroma_Vect.3</th>\n",
       "      <th>Chroma_Vect.4</th>\n",
       "      <th>Chroma_Vect.5</th>\n",
       "      <th>Chroma_Vect.6</th>\n",
       "      <th>Chroma_Vect.7</th>\n",
       "      <th>Chroma_Vect.8</th>\n",
       "      <th>...</th>\n",
       "      <th>mel_spect.126</th>\n",
       "      <th>mel_spect.127</th>\n",
       "      <th>tonnetz</th>\n",
       "      <th>tonnetz.1</th>\n",
       "      <th>tonnetz.2</th>\n",
       "      <th>tonnetz.3</th>\n",
       "      <th>tonnetz.4</th>\n",
       "      <th>tonnetz.5</th>\n",
       "      <th>emotion_labels</th>\n",
       "      <th>gender_labels</th>\n",
       "    </tr>\n",
       "  </thead>\n",
       "  <tbody>\n",
       "    <tr>\n",
       "      <th>0</th>\n",
       "      <td>0.073891</td>\n",
       "      <td>0.457927</td>\n",
       "      <td>0.424135</td>\n",
       "      <td>0.443748</td>\n",
       "      <td>0.432621</td>\n",
       "      <td>0.457097</td>\n",
       "      <td>0.570265</td>\n",
       "      <td>0.604063</td>\n",
       "      <td>0.543393</td>\n",
       "      <td>0.504490</td>\n",
       "      <td>...</td>\n",
       "      <td>7.051226e-06</td>\n",
       "      <td>5.311965e-07</td>\n",
       "      <td>-0.021221</td>\n",
       "      <td>0.015702</td>\n",
       "      <td>-0.045529</td>\n",
       "      <td>-0.026291</td>\n",
       "      <td>-0.022694</td>\n",
       "      <td>-0.008573</td>\n",
       "      <td>disgust</td>\n",
       "      <td>Female</td>\n",
       "    </tr>\n",
       "    <tr>\n",
       "      <th>1</th>\n",
       "      <td>0.051569</td>\n",
       "      <td>0.613652</td>\n",
       "      <td>0.604489</td>\n",
       "      <td>0.605645</td>\n",
       "      <td>0.613159</td>\n",
       "      <td>0.672055</td>\n",
       "      <td>0.680757</td>\n",
       "      <td>0.660805</td>\n",
       "      <td>0.685561</td>\n",
       "      <td>0.673756</td>\n",
       "      <td>...</td>\n",
       "      <td>8.067946e-11</td>\n",
       "      <td>7.727598e-11</td>\n",
       "      <td>-0.024643</td>\n",
       "      <td>0.017358</td>\n",
       "      <td>-0.099146</td>\n",
       "      <td>-0.020570</td>\n",
       "      <td>0.025062</td>\n",
       "      <td>-0.006624</td>\n",
       "      <td>neutral</td>\n",
       "      <td>Female</td>\n",
       "    </tr>\n",
       "  </tbody>\n",
       "</table>\n",
       "<p>2 rows × 170 columns</p>\n",
       "</div>\n",
       "      <button class=\"colab-df-convert\" onclick=\"convertToInteractive('df-22d2ada3-13be-46dd-9c7e-e2a845c4fa3a')\"\n",
       "              title=\"Convert this dataframe to an interactive table.\"\n",
       "              style=\"display:none;\">\n",
       "        \n",
       "  <svg xmlns=\"http://www.w3.org/2000/svg\" height=\"24px\"viewBox=\"0 0 24 24\"\n",
       "       width=\"24px\">\n",
       "    <path d=\"M0 0h24v24H0V0z\" fill=\"none\"/>\n",
       "    <path d=\"M18.56 5.44l.94 2.06.94-2.06 2.06-.94-2.06-.94-.94-2.06-.94 2.06-2.06.94zm-11 1L8.5 8.5l.94-2.06 2.06-.94-2.06-.94L8.5 2.5l-.94 2.06-2.06.94zm10 10l.94 2.06.94-2.06 2.06-.94-2.06-.94-.94-2.06-.94 2.06-2.06.94z\"/><path d=\"M17.41 7.96l-1.37-1.37c-.4-.4-.92-.59-1.43-.59-.52 0-1.04.2-1.43.59L10.3 9.45l-7.72 7.72c-.78.78-.78 2.05 0 2.83L4 21.41c.39.39.9.59 1.41.59.51 0 1.02-.2 1.41-.59l7.78-7.78 2.81-2.81c.8-.78.8-2.07 0-2.86zM5.41 20L4 18.59l7.72-7.72 1.47 1.35L5.41 20z\"/>\n",
       "  </svg>\n",
       "      </button>\n",
       "      \n",
       "  <style>\n",
       "    .colab-df-container {\n",
       "      display:flex;\n",
       "      flex-wrap:wrap;\n",
       "      gap: 12px;\n",
       "    }\n",
       "\n",
       "    .colab-df-convert {\n",
       "      background-color: #E8F0FE;\n",
       "      border: none;\n",
       "      border-radius: 50%;\n",
       "      cursor: pointer;\n",
       "      display: none;\n",
       "      fill: #1967D2;\n",
       "      height: 32px;\n",
       "      padding: 0 0 0 0;\n",
       "      width: 32px;\n",
       "    }\n",
       "\n",
       "    .colab-df-convert:hover {\n",
       "      background-color: #E2EBFA;\n",
       "      box-shadow: 0px 1px 2px rgba(60, 64, 67, 0.3), 0px 1px 3px 1px rgba(60, 64, 67, 0.15);\n",
       "      fill: #174EA6;\n",
       "    }\n",
       "\n",
       "    [theme=dark] .colab-df-convert {\n",
       "      background-color: #3B4455;\n",
       "      fill: #D2E3FC;\n",
       "    }\n",
       "\n",
       "    [theme=dark] .colab-df-convert:hover {\n",
       "      background-color: #434B5C;\n",
       "      box-shadow: 0px 1px 3px 1px rgba(0, 0, 0, 0.15);\n",
       "      filter: drop-shadow(0px 1px 2px rgba(0, 0, 0, 0.3));\n",
       "      fill: #FFFFFF;\n",
       "    }\n",
       "  </style>\n",
       "\n",
       "      <script>\n",
       "        const buttonEl =\n",
       "          document.querySelector('#df-22d2ada3-13be-46dd-9c7e-e2a845c4fa3a button.colab-df-convert');\n",
       "        buttonEl.style.display =\n",
       "          google.colab.kernel.accessAllowed ? 'block' : 'none';\n",
       "\n",
       "        async function convertToInteractive(key) {\n",
       "          const element = document.querySelector('#df-22d2ada3-13be-46dd-9c7e-e2a845c4fa3a');\n",
       "          const dataTable =\n",
       "            await google.colab.kernel.invokeFunction('convertToInteractive',\n",
       "                                                     [key], {});\n",
       "          if (!dataTable) return;\n",
       "\n",
       "          const docLinkHtml = 'Like what you see? Visit the ' +\n",
       "            '<a target=\"_blank\" href=https://colab.research.google.com/notebooks/data_table.ipynb>data table notebook</a>'\n",
       "            + ' to learn more about interactive tables.';\n",
       "          element.innerHTML = '';\n",
       "          dataTable['output_type'] = 'display_data';\n",
       "          await google.colab.output.renderOutput(dataTable, element);\n",
       "          const docLink = document.createElement('div');\n",
       "          docLink.innerHTML = docLinkHtml;\n",
       "          element.appendChild(docLink);\n",
       "        }\n",
       "      </script>\n",
       "    </div>\n",
       "  </div>\n",
       "  "
      ],
      "text/plain": [
       "        ZCR  Chroma_Vect  Chroma_Vect.1  Chroma_Vect.2  Chroma_Vect.3  \\\n",
       "0  0.073891     0.457927       0.424135       0.443748       0.432621   \n",
       "1  0.051569     0.613652       0.604489       0.605645       0.613159   \n",
       "\n",
       "   Chroma_Vect.4  Chroma_Vect.5  Chroma_Vect.6  Chroma_Vect.7  Chroma_Vect.8  \\\n",
       "0       0.457097       0.570265       0.604063       0.543393       0.504490   \n",
       "1       0.672055       0.680757       0.660805       0.685561       0.673756   \n",
       "\n",
       "   ...  mel_spect.126  mel_spect.127   tonnetz  tonnetz.1  tonnetz.2  \\\n",
       "0  ...   7.051226e-06   5.311965e-07 -0.021221   0.015702  -0.045529   \n",
       "1  ...   8.067946e-11   7.727598e-11 -0.024643   0.017358  -0.099146   \n",
       "\n",
       "   tonnetz.3  tonnetz.4  tonnetz.5  emotion_labels  gender_labels  \n",
       "0  -0.026291  -0.022694  -0.008573         disgust         Female  \n",
       "1  -0.020570   0.025062  -0.006624         neutral         Female  \n",
       "\n",
       "[2 rows x 170 columns]"
      ]
     },
     "execution_count": 15,
     "metadata": {},
     "output_type": "execute_result"
    }
   ],
   "source": [
    "Features=pd.read_csv('Converted_audiofiles.csv',mangle_dupe_cols=True)\n",
    "Features.head(2)"
   ]
  },
  {
   "cell_type": "code",
   "execution_count": 16,
   "metadata": {
    "execution": {
     "iopub.execute_input": "2022-06-05T11:16:33.059934Z",
     "iopub.status.busy": "2022-06-05T11:16:33.059073Z",
     "iopub.status.idle": "2022-06-05T11:16:33.083990Z",
     "shell.execute_reply": "2022-06-05T11:16:33.083090Z",
     "shell.execute_reply.started": "2022-06-05T11:16:33.059895Z"
    },
    "id": "poakBEQ7kcEx"
   },
   "outputs": [],
   "source": [
    "Features['Gender_emotion']=Features['gender_labels']+'_'+Features['emotion_labels']\n",
    "#Y1=Features['emotion_labels']\n",
    "Features=Features.drop(['gender_labels','emotion_labels'],axis=1)"
   ]
  },
  {
   "cell_type": "code",
   "execution_count": 17,
   "metadata": {
    "colab": {
     "base_uri": "https://localhost:8080/",
     "height": 406
    },
    "execution": {
     "iopub.execute_input": "2022-06-05T11:16:33.086598Z",
     "iopub.status.busy": "2022-06-05T11:16:33.085589Z",
     "iopub.status.idle": "2022-06-05T11:16:33.495859Z",
     "shell.execute_reply": "2022-06-05T11:16:33.495129Z",
     "shell.execute_reply.started": "2022-06-05T11:16:33.086554Z"
    },
    "id": "s9JYo_L_y_JR",
    "outputId": "8b9fbb68-2a27-4306-ed18-929f1466edbd"
   },
   "outputs": [
    {
     "data": {
      "image/png": "[encoded data removed]",
      "text/plain": [
       "<Figure size 1440x360 with 1 Axes>"
      ]
     },
     "metadata": {
      "needs_background": "light"
     },
     "output_type": "display_data"
    }
   ],
   "source": [
    "plt.figure(figsize=(20,5))\n",
    "plt.xticks(rotation=90)\n",
    "sns.countplot(Features['Gender_emotion'])\n",
    "plt.savefig('distribution.png')"
   ]
  },
  {
   "cell_type": "code",
   "execution_count": 34,
   "metadata": {
    "execution": {
     "iopub.execute_input": "2022-06-05T11:16:33.497887Z",
     "iopub.status.busy": "2022-06-05T11:16:33.497344Z",
     "iopub.status.idle": "2022-06-05T11:16:33.517149Z",
     "shell.execute_reply": "2022-06-05T11:16:33.516287Z",
     "shell.execute_reply.started": "2022-06-05T11:16:33.497839Z"
    },
    "id": "HSk8t_K0lAKa"
   },
   "outputs": [],
   "source": [
    "X=Features.drop(['Gender_emotion'],axis=1)\n",
    "Y=Features['Gender_emotion']"
   ]
  },
  {
   "cell_type": "code",
   "execution_count": 35,
   "metadata": {
    "colab": {
     "base_uri": "https://localhost:8080/"
    },
    "execution": {
     "iopub.execute_input": "2022-06-05T11:16:33.519489Z",
     "iopub.status.busy": "2022-06-05T11:16:33.518810Z",
     "iopub.status.idle": "2022-06-05T11:16:33.527314Z",
     "shell.execute_reply": "2022-06-05T11:16:33.526267Z",
     "shell.execute_reply.started": "2022-06-05T11:16:33.519443Z"
    },
    "id": "CbS6VSFZy_JS",
    "outputId": "8e2653d8-4c7f-44cb-959a-58e8823d2f27"
   },
   "outputs": [
    {
     "data": {
      "text/plain": [
       "((21759,), (21759, 168))"
      ]
     },
     "execution_count": 35,
     "metadata": {},
     "output_type": "execute_result"
    }
   ],
   "source": [
    "Y.shape,X.shape"
   ]
  },
  {
   "cell_type": "code",
   "execution_count": 36,
   "metadata": {
    "execution": {
     "iopub.execute_input": "2022-06-05T11:16:33.533211Z",
     "iopub.status.busy": "2022-06-05T11:16:33.532668Z",
     "iopub.status.idle": "2022-06-05T11:16:33.558160Z",
     "shell.execute_reply": "2022-06-05T11:16:33.557140Z",
     "shell.execute_reply.started": "2022-06-05T11:16:33.533152Z"
    },
    "id": "Eo9cxFJBT2ko"
   },
   "outputs": [],
   "source": [
    "encoder = OneHotEncoder()\n",
    "Y = encoder.fit_transform(np.array(Y).reshape(-1,1)).toarray()"
   ]
  },
  {
   "cell_type": "code",
   "execution_count": 37,
   "metadata": {
    "colab": {
     "base_uri": "https://localhost:8080/"
    },
    "execution": {
     "iopub.execute_input": "2022-06-05T11:16:33.560369Z",
     "iopub.status.busy": "2022-06-05T11:16:33.560049Z",
     "iopub.status.idle": "2022-06-05T11:16:33.613699Z",
     "shell.execute_reply": "2022-06-05T11:16:33.612906Z",
     "shell.execute_reply.started": "2022-06-05T11:16:33.560327Z"
    },
    "id": "rHTT5bwXT2oz",
    "outputId": "f48120a5-3aab-47dd-f29b-bbed3d9cef30"
   },
   "outputs": [
    {
     "data": {
      "text/plain": [
       "((17407, 168), (17407, 16), (4352, 168), (4352, 16))"
      ]
     },
     "execution_count": 37,
     "metadata": {},
     "output_type": "execute_result"
    }
   ],
   "source": [
    "x_train, x_test, y_train, y_test = train_test_split(X, Y, random_state=0, shuffle=True,test_size=0.2)\n",
    "x_train.shape, y_train.shape, x_test.shape, y_test.shape"
   ]
  },
  {
   "cell_type": "code",
   "execution_count": 38,
   "metadata": {
    "colab": {
     "base_uri": "https://localhost:8080/"
    },
    "execution": {
     "iopub.execute_input": "2022-06-05T11:16:33.616364Z",
     "iopub.status.busy": "2022-06-05T11:16:33.615253Z",
     "iopub.status.idle": "2022-06-05T11:16:33.635241Z",
     "shell.execute_reply": "2022-06-05T11:16:33.634401Z",
     "shell.execute_reply.started": "2022-06-05T11:16:33.616317Z"
    },
    "id": "GoS9MPhAy_JT",
    "outputId": "31f9d2a4-6585-4f9f-9d92-6ac6e8c489d4"
   },
   "outputs": [
    {
     "data": {
      "text/plain": [
       "{0: 0.609147536394177,\n",
       " 1: 5.131780660377358,\n",
       " 2: 0.5961301369863014,\n",
       " 3: 0.6060933147632313,\n",
       " 4: 0.609830437219731,\n",
       " 5: 0.6799609375,\n",
       " 6: 0.607786312849162,\n",
       " 7: 0.8983794384805945,\n",
       " 8: 1.344792954264524,\n",
       " 9: 4.750818777292577,\n",
       " 10: 1.3381765067650677,\n",
       " 11: 1.3283730158730158,\n",
       " 12: 1.3235249391727495,\n",
       " 13: 1.4467253989361701,\n",
       " 14: 1.3771360759493672,\n",
       " 15: 2.9403716216216216}"
      ]
     },
     "execution_count": 38,
     "metadata": {},
     "output_type": "execute_result"
    }
   ],
   "source": [
    "y_integers = np.argmax(y_train, axis=1)\n",
    "class_weights = compute_class_weight(class_weight='balanced',classes=np.unique(y_integers),y= y_integers)\n",
    "d_class_weights = dict(enumerate(class_weights))\n",
    "d_class_weights"
   ]
  },
  {
   "cell_type": "code",
   "execution_count": 39,
   "metadata": {
    "colab": {
     "base_uri": "https://localhost:8080/"
    },
    "execution": {
     "iopub.execute_input": "2022-06-05T11:16:33.645351Z",
     "iopub.status.busy": "2022-06-05T11:16:33.644388Z",
     "iopub.status.idle": "2022-06-05T11:16:33.716633Z",
     "shell.execute_reply": "2022-06-05T11:16:33.715559Z",
     "shell.execute_reply.started": "2022-06-05T11:16:33.645307Z"
    },
    "id": "XR5OBrhyKQbc",
    "outputId": "9eb730b6-ee9b-4b74-c471-517ae8f7eb73"
   },
   "outputs": [
    {
     "data": {
      "text/plain": [
       "((17407, 168), (17407, 16), (4352, 168), (4352, 16))"
      ]
     },
     "execution_count": 39,
     "metadata": {},
     "output_type": "execute_result"
    }
   ],
   "source": [
    "scaler = StandardScaler()\n",
    "x_train = scaler.fit_transform(x_train)\n",
    "x_test = scaler.transform(x_test)\n",
    "x_train.shape, y_train.shape, x_test.shape, y_test.shape"
   ]
  },
  {
   "cell_type": "code",
   "execution_count": 40,
   "metadata": {
    "colab": {
     "base_uri": "https://localhost:8080/"
    },
    "execution": {
     "iopub.execute_input": "2022-06-05T11:16:33.718860Z",
     "iopub.status.busy": "2022-06-05T11:16:33.718526Z",
     "iopub.status.idle": "2022-06-05T11:16:33.728717Z",
     "shell.execute_reply": "2022-06-05T11:16:33.727863Z",
     "shell.execute_reply.started": "2022-06-05T11:16:33.718815Z"
    },
    "id": "5L4EC1ljKQeR",
    "outputId": "d371c5f5-e704-4da2-9f3e-ae2cb2dce1ec"
   },
   "outputs": [
    {
     "data": {
      "text/plain": [
       "((17407, 168, 1), (17407, 16), (4352, 168, 1), (4352, 16))"
      ]
     },
     "execution_count": 40,
     "metadata": {},
     "output_type": "execute_result"
    }
   ],
   "source": [
    "x_train = np.expand_dims(x_train, axis=2)\n",
    "x_test = np.expand_dims(x_test, axis=2)\n",
    "x_train.shape, y_train.shape, x_test.shape, y_test.shape"
   ]
  },
  {
   "cell_type": "code",
   "execution_count": 25,
   "metadata": {
    "colab": {
     "base_uri": "https://localhost:8080/"
    },
    "execution": {
     "iopub.execute_input": "2022-06-05T11:16:33.742928Z",
     "iopub.status.busy": "2022-06-05T11:16:33.741912Z",
     "iopub.status.idle": "2022-06-05T11:16:34.254142Z",
     "shell.execute_reply": "2022-06-05T11:16:34.253266Z",
     "shell.execute_reply.started": "2022-06-05T11:16:33.742891Z"
    },
    "id": "GELo4fFCKQhF",
    "outputId": "a800bf4d-b8da-4ec6-8999-1c3327acef43"
   },
   "outputs": [
    {
     "name": "stdout",
     "output_type": "stream",
     "text": [
      "Model: \"sequential\"\n",
      "_________________________________________________________________\n",
      " Layer (type)                Output Shape              Param #   \n",
      "=================================================================\n",
      " conv1d (Conv1D)             (None, 42, 528)           11088     \n",
      "                                                                 \n",
      " batch_normalization (BatchN  (None, 42, 528)          2112      \n",
      " ormalization)                                                   \n",
      "                                                                 \n",
      " dropout (Dropout)           (None, 42, 528)           0         \n",
      "                                                                 \n",
      " bidirectional (Bidirectiona  (None, 512)              1607680   \n",
      " l)                                                              \n",
      "                                                                 \n",
      " dense (Dense)               (None, 128)               65664     \n",
      "                                                                 \n",
      " dropout_1 (Dropout)         (None, 128)               0         \n",
      "                                                                 \n",
      " dense_1 (Dense)             (None, 16)                2064      \n",
      "                                                                 \n",
      "=================================================================\n",
      "Total params: 1,688,608\n",
      "Trainable params: 1,687,552\n",
      "Non-trainable params: 1,056\n",
      "_________________________________________________________________\n"
     ]
    }
   ],
   "source": [
    "model1=Sequential()\n",
    "model1.add(Conv1D(528, kernel_size=20, strides=4, padding='same', activation='relu', input_shape=(x_train.shape[1], 1)))\n",
    "model1.add(BatchNormalization())\n",
    "model1.add(Dropout(0.4))\n",
    "model1.add(Bidirectional(LSTM(256)))\n",
    "model1.add(Dense(units=128, activation='relu'))\n",
    "model1.add(Dropout(0.5))\n",
    "model1.add(Dense(units=16, activation='softmax'))\n",
    "model1.summary()"
   ]
  },
  {
   "cell_type": "code",
   "execution_count": 26,
   "metadata": {
    "colab": {
     "base_uri": "https://localhost:8080/",
     "height": 865
    },
    "execution": {
     "iopub.execute_input": "2022-06-05T11:16:34.257539Z",
     "iopub.status.busy": "2022-06-05T11:16:34.255887Z",
     "iopub.status.idle": "2022-06-05T11:16:34.446410Z",
     "shell.execute_reply": "2022-06-05T11:16:34.445541Z",
     "shell.execute_reply.started": "2022-06-05T11:16:34.257499Z"
    },
    "id": "WfXh0TUjy_JU",
    "outputId": "dfb4ece6-c032-4911-d71a-d21a92b1afa3"
   },
   "outputs": [
    {
     "data": {
      "image/png": "[encoded data removed]",
      "text/plain": [
       "<IPython.core.display.Image object>"
      ]
     },
     "execution_count": 26,
     "metadata": {},
     "output_type": "execute_result"
    }
   ],
   "source": [
    "plot_model(model1, to_file='model_plot.png', show_shapes=True, show_layer_names=True)"
   ]
  },
  {
   "cell_type": "code",
   "execution_count": 27,
   "metadata": {
    "execution": {
     "iopub.execute_input": "2022-06-05T11:16:34.448754Z",
     "iopub.status.busy": "2022-06-05T11:16:34.447981Z",
     "iopub.status.idle": "2022-06-05T11:16:34.464018Z",
     "shell.execute_reply": "2022-06-05T11:16:34.463276Z",
     "shell.execute_reply.started": "2022-06-05T11:16:34.448708Z"
    },
    "id": "mrdQBYwzy_JV"
   },
   "outputs": [],
   "source": [
    "adam = Adam(lr=1e-4, clipnorm=2.0,clipvalue=0.5)\n",
    "model1.compile(optimizer = adam , loss = 'categorical_crossentropy' , metrics = ['accuracy'])"
   ]
  },
  {
   "cell_type": "code",
   "execution_count": 28,
   "metadata": {
    "colab": {
     "base_uri": "https://localhost:8080/"
    },
    "execution": {
     "iopub.execute_input": "2022-06-05T11:16:34.466564Z",
     "iopub.status.busy": "2022-06-05T11:16:34.465877Z",
     "iopub.status.idle": "2022-06-05T11:25:19.843214Z",
     "shell.execute_reply": "2022-06-05T11:25:19.842221Z",
     "shell.execute_reply.started": "2022-06-05T11:16:34.466524Z"
    },
    "id": "IwQHE-3Qy_JV",
    "outputId": "029b762a-1261-4901-8f4e-189d4106fc51"
   },
   "outputs": [
    {
     "name": "stdout",
     "output_type": "stream",
     "text": [
      "Epoch 1/50\n",
      "697/697 [==============================] - 25s 14ms/step - loss: 2.2373 - accuracy: 0.2747 - val_loss: 1.7587 - val_accuracy: 0.4398 - lr: 1.0000e-04\n",
      "Epoch 2/50\n",
      "697/697 [==============================] - 9s 13ms/step - loss: 1.7578 - accuracy: 0.4264 - val_loss: 1.4405 - val_accuracy: 0.5246 - lr: 1.0000e-04\n",
      "Epoch 3/50\n",
      "697/697 [==============================] - 9s 13ms/step - loss: 1.5531 - accuracy: 0.4883 - val_loss: 1.2896 - val_accuracy: 0.5600 - lr: 1.0000e-04\n",
      "Epoch 4/50\n",
      "697/697 [==============================] - 10s 14ms/step - loss: 1.4346 - accuracy: 0.5225 - val_loss: 1.1872 - val_accuracy: 0.5795 - lr: 1.0000e-04\n",
      "Epoch 5/50\n",
      "697/697 [==============================] - 9s 13ms/step - loss: 1.3369 - accuracy: 0.5484 - val_loss: 1.1480 - val_accuracy: 0.5903 - lr: 1.0000e-04\n",
      "Epoch 6/50\n",
      "697/697 [==============================] - 9s 13ms/step - loss: 1.2744 - accuracy: 0.5630 - val_loss: 1.1224 - val_accuracy: 0.6057 - lr: 1.0000e-04\n",
      "Epoch 7/50\n",
      "697/697 [==============================] - 14s 20ms/step - loss: 1.2169 - accuracy: 0.5773 - val_loss: 1.0800 - val_accuracy: 0.6174 - lr: 1.0000e-04\n",
      "Epoch 8/50\n",
      "697/697 [==============================] - 13s 19ms/step - loss: 1.1736 - accuracy: 0.5921 - val_loss: 1.0328 - val_accuracy: 0.6365 - lr: 1.0000e-04\n",
      "Epoch 9/50\n",
      "697/697 [==============================] - 9s 13ms/step - loss: 1.1272 - accuracy: 0.6081 - val_loss: 1.0015 - val_accuracy: 0.6333 - lr: 1.0000e-04\n",
      "Epoch 10/50\n",
      "697/697 [==============================] - 9s 13ms/step - loss: 1.0928 - accuracy: 0.6156 - val_loss: 0.9698 - val_accuracy: 0.6535 - lr: 1.0000e-04\n",
      "Epoch 11/50\n",
      "697/697 [==============================] - 9s 13ms/step - loss: 1.0596 - accuracy: 0.6250 - val_loss: 0.9521 - val_accuracy: 0.6592 - lr: 1.0000e-04\n",
      "Epoch 12/50\n",
      "697/697 [==============================] - 9s 13ms/step - loss: 1.0121 - accuracy: 0.6425 - val_loss: 0.9142 - val_accuracy: 0.6650 - lr: 1.0000e-04\n",
      "Epoch 13/50\n",
      "697/697 [==============================] - 9s 13ms/step - loss: 0.9913 - accuracy: 0.6460 - val_loss: 0.9161 - val_accuracy: 0.6698 - lr: 1.0000e-04\n",
      "Epoch 14/50\n",
      "697/697 [==============================] - 9s 14ms/step - loss: 0.9575 - accuracy: 0.6531 - val_loss: 0.9321 - val_accuracy: 0.6689 - lr: 1.0000e-04\n",
      "Epoch 15/50\n",
      "697/697 [==============================] - 9s 13ms/step - loss: 0.9352 - accuracy: 0.6659 - val_loss: 0.9097 - val_accuracy: 0.6705 - lr: 1.0000e-04\n",
      "Epoch 16/50\n",
      "697/697 [==============================] - 9s 13ms/step - loss: 0.9138 - accuracy: 0.6730 - val_loss: 0.8783 - val_accuracy: 0.6797 - lr: 1.0000e-04\n",
      "Epoch 17/50\n",
      "697/697 [==============================] - 9s 13ms/step - loss: 0.8875 - accuracy: 0.6772 - val_loss: 0.8558 - val_accuracy: 0.6974 - lr: 1.0000e-04\n",
      "Epoch 18/50\n",
      "697/697 [==============================] - 10s 14ms/step - loss: 0.8676 - accuracy: 0.6834 - val_loss: 0.8907 - val_accuracy: 0.6857 - lr: 1.0000e-04\n",
      "Epoch 19/50\n",
      "697/697 [==============================] - 9s 13ms/step - loss: 0.8548 - accuracy: 0.6894 - val_loss: 0.8401 - val_accuracy: 0.6937 - lr: 1.0000e-04\n",
      "Epoch 20/50\n",
      "697/697 [==============================] - 9s 13ms/step - loss: 0.8228 - accuracy: 0.6997 - val_loss: 0.8424 - val_accuracy: 0.6930 - lr: 1.0000e-04\n",
      "Epoch 21/50\n",
      "697/697 [==============================] - 9s 13ms/step - loss: 0.8086 - accuracy: 0.7049 - val_loss: 0.8202 - val_accuracy: 0.7052 - lr: 1.0000e-04\n",
      "Epoch 22/50\n",
      "697/697 [==============================] - 9s 13ms/step - loss: 0.7753 - accuracy: 0.7144 - val_loss: 0.8002 - val_accuracy: 0.7027 - lr: 1.0000e-04\n",
      "Epoch 23/50\n",
      "697/697 [==============================] - 10s 14ms/step - loss: 0.7637 - accuracy: 0.7164 - val_loss: 0.8209 - val_accuracy: 0.7024 - lr: 1.0000e-04\n",
      "Epoch 24/50\n",
      "697/697 [==============================] - 9s 13ms/step - loss: 0.7460 - accuracy: 0.7190 - val_loss: 0.8212 - val_accuracy: 0.7086 - lr: 1.0000e-04\n",
      "Epoch 25/50\n",
      "697/697 [==============================] - 9s 13ms/step - loss: 0.7355 - accuracy: 0.7298 - val_loss: 0.8083 - val_accuracy: 0.7082 - lr: 1.0000e-04\n",
      "Epoch 26/50\n",
      "697/697 [==============================] - 9s 13ms/step - loss: 0.7177 - accuracy: 0.7355 - val_loss: 0.8116 - val_accuracy: 0.7045 - lr: 1.0000e-04\n",
      "Epoch 27/50\n",
      "697/697 [==============================] - 9s 13ms/step - loss: 0.6939 - accuracy: 0.7418 - val_loss: 0.7857 - val_accuracy: 0.7185 - lr: 1.0000e-04\n",
      "Epoch 28/50\n",
      "697/697 [==============================] - 9s 13ms/step - loss: 0.6897 - accuracy: 0.7433 - val_loss: 0.7799 - val_accuracy: 0.7268 - lr: 1.0000e-04\n",
      "Epoch 29/50\n",
      "697/697 [==============================] - 9s 13ms/step - loss: 0.6630 - accuracy: 0.7504 - val_loss: 0.7535 - val_accuracy: 0.7284 - lr: 1.0000e-04\n",
      "Epoch 30/50\n",
      "697/697 [==============================] - 10s 15ms/step - loss: 0.6465 - accuracy: 0.7539 - val_loss: 0.7625 - val_accuracy: 0.7312 - lr: 1.0000e-04\n",
      "Epoch 31/50\n",
      "697/697 [==============================] - 9s 13ms/step - loss: 0.6329 - accuracy: 0.7612 - val_loss: 0.7648 - val_accuracy: 0.7273 - lr: 1.0000e-04\n",
      "Epoch 32/50\n",
      "697/697 [==============================] - 9s 13ms/step - loss: 0.6203 - accuracy: 0.7647 - val_loss: 0.7631 - val_accuracy: 0.7266 - lr: 1.0000e-04\n",
      "Epoch 33/50\n",
      "697/697 [==============================] - 9s 13ms/step - loss: 0.6126 - accuracy: 0.7720 - val_loss: 0.7668 - val_accuracy: 0.7224 - lr: 1.0000e-04\n",
      "Epoch 34/50\n",
      "697/697 [==============================] - 9s 13ms/step - loss: 0.5932 - accuracy: 0.7784 - val_loss: 0.7610 - val_accuracy: 0.7266 - lr: 1.0000e-04\n",
      "Epoch 35/50\n",
      "697/697 [==============================] - 9s 13ms/step - loss: 0.5810 - accuracy: 0.7826 - val_loss: 0.7530 - val_accuracy: 0.7360 - lr: 1.0000e-04\n",
      "Epoch 36/50\n",
      "697/697 [==============================] - 9s 13ms/step - loss: 0.5696 - accuracy: 0.7849 - val_loss: 0.7307 - val_accuracy: 0.7369 - lr: 1.0000e-04\n",
      "Epoch 37/50\n",
      "697/697 [==============================] - 9s 13ms/step - loss: 0.5548 - accuracy: 0.7912 - val_loss: 0.7341 - val_accuracy: 0.7410 - lr: 1.0000e-04\n",
      "Epoch 38/50\n",
      "697/697 [==============================] - 9s 13ms/step - loss: 0.5456 - accuracy: 0.7930 - val_loss: 0.7714 - val_accuracy: 0.7302 - lr: 1.0000e-04\n",
      "Epoch 39/50\n",
      "697/697 [==============================] - 9s 13ms/step - loss: 0.5259 - accuracy: 0.7994 - val_loss: 0.7485 - val_accuracy: 0.7438 - lr: 1.0000e-04\n",
      "Epoch 40/50\n",
      "697/697 [==============================] - 9s 14ms/step - loss: 0.5174 - accuracy: 0.8015 - val_loss: 0.7463 - val_accuracy: 0.7424 - lr: 1.0000e-04\n",
      "Epoch 41/50\n",
      "697/697 [==============================] - 9s 13ms/step - loss: 0.4980 - accuracy: 0.8073 - val_loss: 0.7372 - val_accuracy: 0.7436 - lr: 1.0000e-04\n",
      "Epoch 42/50\n",
      "697/697 [==============================] - 9s 14ms/step - loss: 0.4877 - accuracy: 0.8088 - val_loss: 0.7412 - val_accuracy: 0.7397 - lr: 1.0000e-04\n",
      "Epoch 43/50\n",
      "697/697 [==============================] - 9s 13ms/step - loss: 0.4806 - accuracy: 0.8156 - val_loss: 0.7559 - val_accuracy: 0.7438 - lr: 1.0000e-04\n",
      "Epoch 44/50\n",
      "697/697 [==============================] - 9s 13ms/step - loss: 0.4736 - accuracy: 0.8144 - val_loss: 0.7297 - val_accuracy: 0.7511 - lr: 1.0000e-04\n",
      "Epoch 45/50\n",
      "697/697 [==============================] - 9s 13ms/step - loss: 0.4604 - accuracy: 0.8196 - val_loss: 0.7674 - val_accuracy: 0.7507 - lr: 1.0000e-04\n",
      "Epoch 46/50\n",
      "697/697 [==============================] - 9s 13ms/step - loss: 0.4443 - accuracy: 0.8260 - val_loss: 0.7417 - val_accuracy: 0.7514 - lr: 1.0000e-04\n",
      "Epoch 47/50\n",
      "697/697 [==============================] - 9s 13ms/step - loss: 0.4407 - accuracy: 0.8270 - val_loss: 0.7276 - val_accuracy: 0.7546 - lr: 1.0000e-04\n",
      "Epoch 48/50\n",
      "697/697 [==============================] - 9s 13ms/step - loss: 0.4343 - accuracy: 0.8299 - val_loss: 0.7300 - val_accuracy: 0.7597 - lr: 1.0000e-04\n",
      "Epoch 49/50\n",
      "697/697 [==============================] - 9s 13ms/step - loss: 0.4194 - accuracy: 0.8351 - val_loss: 0.7470 - val_accuracy: 0.7603 - lr: 1.0000e-04\n",
      "Epoch 50/50\n",
      "697/697 [==============================] - 9s 14ms/step - loss: 0.4150 - accuracy: 0.8383 - val_loss: 0.7249 - val_accuracy: 0.7617 - lr: 1.0000e-04\n"
     ]
    }
   ],
   "source": [
    "rlrp = ReduceLROnPlateau(monitor='val_loss', factor=.1, verbose=0, patience=2, min_lr=0.0001)\n",
    "history=model1.fit(x_train, y_train ,batch_size=25, epochs=50, validation_data=(x_test, y_test), callbacks=[rlrp],class_weight=d_class_weights)"
   ]
  },
  {
   "cell_type": "code",
   "execution_count": 29,
   "metadata": {
    "colab": {
     "base_uri": "https://localhost:8080/",
     "height": 440
    },
    "execution": {
     "iopub.execute_input": "2022-06-05T11:25:19.845486Z",
     "iopub.status.busy": "2022-06-05T11:25:19.845107Z",
     "iopub.status.idle": "2022-06-05T11:25:21.528759Z",
     "shell.execute_reply": "2022-06-05T11:25:21.528065Z",
     "shell.execute_reply.started": "2022-06-05T11:25:19.845443Z"
    },
    "id": "M16SrNPjy_JV",
    "outputId": "05248282-434b-4729-ee2a-1b4691896e7f"
   },
   "outputs": [
    {
     "name": "stdout",
     "output_type": "stream",
     "text": [
      "136/136 [==============================] - 2s 6ms/step - loss: 0.7249 - accuracy: 0.7617\n",
      "Accuracy of our model on test data :  76.171875 %\n"
     ]
    },
    {
     "data": {
      "image/png": "[encoded data removed]",
      "text/plain": [
       "<Figure size 1440x432 with 2 Axes>"
      ]
     },
     "metadata": {
      "needs_background": "light"
     },
     "output_type": "display_data"
    }
   ],
   "source": [
    "print(\"Accuracy of our model on test data : \" , model1.evaluate(x_test,y_test)[1]*100 , \"%\")\n",
    "\n",
    "epochs = [i for i in range(50)]\n",
    "fig , ax = plt.subplots(1,2)\n",
    "train_acc = history.history['accuracy']\n",
    "train_loss = history.history['loss']\n",
    "test_acc = history.history['val_accuracy']\n",
    "test_loss = history.history['val_loss']\n",
    "\n",
    "fig.set_size_inches(20,6)\n",
    "ax[0].plot(epochs , train_loss , label = 'Training Loss')\n",
    "ax[0].plot(epochs , test_loss , label = 'Testing Loss')\n",
    "ax[0].set_title('Training & Testing Loss')\n",
    "ax[0].legend()\n",
    "ax[0].set_xlabel(\"Epochs\")\n",
    "\n",
    "ax[1].plot(epochs , train_acc , label = 'Training Accuracy')\n",
    "ax[1].plot(epochs , test_acc , label = 'Testing Accuracy')\n",
    "ax[1].set_title('Training & Testing Accuracy')\n",
    "ax[1].legend()\n",
    "ax[1].set_xlabel(\"Epochs\")\n",
    "plt.show()"
   ]
  },
  {
   "cell_type": "code",
   "execution_count": 30,
   "metadata": {
    "colab": {
     "base_uri": "https://localhost:8080/"
    },
    "execution": {
     "iopub.execute_input": "2022-06-05T11:25:21.530791Z",
     "iopub.status.busy": "2022-06-05T11:25:21.530141Z",
     "iopub.status.idle": "2022-06-05T11:25:22.587990Z",
     "shell.execute_reply": "2022-06-05T11:25:22.587078Z",
     "shell.execute_reply.started": "2022-06-05T11:25:21.530752Z"
    },
    "id": "3LYfIFX-y_JV",
    "outputId": "cceb8696-051b-459a-eb6a-4466a440ff84"
   },
   "outputs": [
    {
     "data": {
      "text/plain": [
       "array([[4.1423682e-09, 2.2121429e-09, 2.5677552e-06, ..., 3.1573704e-09,\n",
       "        5.5991216e-09, 7.4327838e-13],\n",
       "       [1.4128551e-04, 6.9153386e-05, 5.7037234e-02, ..., 1.5087951e-05,\n",
       "        2.6340259e-04, 8.6313963e-07],\n",
       "       [8.1207808e-03, 8.5119312e-10, 1.1464608e-06, ..., 5.3298654e-09,\n",
       "        5.7317378e-09, 6.5234559e-08],\n",
       "       ...,\n",
       "       [6.0131278e-08, 1.4281262e-15, 1.3124668e-10, ..., 1.8111196e-10,\n",
       "        2.0034842e-10, 7.9412521e-06],\n",
       "       [1.3226154e-08, 5.2294671e-09, 2.2049879e-07, ..., 1.2207902e-03,\n",
       "        9.9857795e-01, 6.3093194e-07],\n",
       "       [7.1650487e-04, 1.3554146e-07, 1.9381112e-04, ..., 8.7065823e-02,\n",
       "        1.1078184e-02, 6.3542009e-04]], dtype=float32)"
      ]
     },
     "execution_count": 30,
     "metadata": {},
     "output_type": "execute_result"
    }
   ],
   "source": [
    "pred_testa = model1.predict(x_test)\n",
    "pred_testa"
   ]
  },
  {
   "cell_type": "code",
   "execution_count": 41,
   "metadata": {
    "execution": {
     "iopub.execute_input": "2022-06-05T11:25:22.590276Z",
     "iopub.status.busy": "2022-06-05T11:25:22.589670Z",
     "iopub.status.idle": "2022-06-05T11:25:22.598703Z",
     "shell.execute_reply": "2022-06-05T11:25:22.597857Z",
     "shell.execute_reply.started": "2022-06-05T11:25:22.590236Z"
    },
    "id": "NUCTzGkoy_JV"
   },
   "outputs": [],
   "source": [
    "y_pred = encoder.inverse_transform(pred_testa)\n",
    "y_test = encoder.inverse_transform(y_test)"
   ]
  },
  {
   "cell_type": "code",
   "execution_count": 33,
   "metadata": {
    "colab": {
     "base_uri": "https://localhost:8080/"
    },
    "execution": {
     "iopub.execute_input": "2022-06-05T11:25:22.611493Z",
     "iopub.status.busy": "2022-06-05T11:25:22.610821Z",
     "iopub.status.idle": "2022-06-05T11:25:22.807325Z",
     "shell.execute_reply": "2022-06-05T11:25:22.806442Z",
     "shell.execute_reply.started": "2022-06-05T11:25:22.611451Z"
    },
    "id": "_kgCPsq3y_JW",
    "outputId": "a440b7d4-2f59-45e7-b624-b36efcff090d"
   },
   "outputs": [
    {
     "name": "stdout",
     "output_type": "stream",
     "text": [
      "                 precision    recall  f1-score   support\n",
      "\n",
      "   Female_angry       0.84      0.88      0.86       452\n",
      "    Female_calm       0.85      0.93      0.89        76\n",
      " Female_disgust       0.81      0.71      0.76       413\n",
      "    Female_fear       0.84      0.76      0.80       443\n",
      "   Female_happy       0.76      0.75      0.75       454\n",
      " Female_neutral       0.70      0.85      0.77       383\n",
      "     Female_sad       0.84      0.80      0.82       448\n",
      "Female_surprise       0.92      0.95      0.94       277\n",
      "     Male_angry       0.82      0.78      0.80       214\n",
      "      Male_calm       0.69      0.98      0.81        59\n",
      "   Male_disgust       0.68      0.53      0.60       204\n",
      "      Male_fear       0.59      0.56      0.58       195\n",
      "     Male_happy       0.55      0.58      0.57       192\n",
      "   Male_neutral       0.60      0.67      0.63       220\n",
      "       Male_sad       0.64      0.64      0.64       224\n",
      "  Male_surprise       0.77      0.84      0.80        98\n",
      "\n",
      "       accuracy                           0.76      4352\n",
      "      macro avg       0.74      0.76      0.75      4352\n",
      "   weighted avg       0.76      0.76      0.76      4352\n",
      "\n"
     ]
    }
   ],
   "source": [
    "print(classification_report(y_test,y_pred))"
   ]
  }
 ],
 "metadata": {
  "accelerator": "GPU",
  "colab": {
   "name": "Detecting_gender_and_emotion_from_speech.ipynb",
   "provenance": []
  },
  "kernelspec": {
   "display_name": "Python 3 (ipykernel)",
   "language": "python",
   "name": "python3"
  },
  "language_info": {
   "codemirror_mode": {
    "name": "ipython",
    "version": 3
   },
   "file_extension": ".py",
   "mimetype": "text/x-python",
   "name": "python",
   "nbconvert_exporter": "python",
   "pygments_lexer": "ipython3",
   "version": "3.8.8"
  }
 },
 "nbformat": 4,
 "nbformat_minor": 1
}
